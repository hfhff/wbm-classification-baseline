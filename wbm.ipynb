{
 "cells": [
  {
   "cell_type": "code",
   "execution_count": null,
   "id": "cbb23ef7",
   "metadata": {},
   "outputs": [
    {
     "name": "stdout",
     "output_type": "stream",
     "text": [
      "<class 'pandas.core.frame.DataFrame'>\n",
      "RangeIndex: 811457 entries, 0 to 811456\n",
      "Data columns (total 5 columns):\n",
      " #   Column          Non-Null Count   Dtype  \n",
      "---  ------          --------------   -----  \n",
      " 0   waferMap        811457 non-null  object \n",
      " 1   dieSize         811457 non-null  float64\n",
      " 2   lotName         811457 non-null  object \n",
      " 3   trianTestLabel  811457 non-null  object \n",
      " 4   failureType     811457 non-null  object \n",
      "dtypes: float64(1), object(4)\n",
      "memory usage: 31.0+ MB\n"
     ]
    }
   ],
   "source": [
    "import pandas as pd\n",
    "import numpy as np\n",
    "\n",
    "df = pd.read_pickle(\"LSWMD.pkl\")\n",
    "df = df.drop(['waferIndex'], axis = 1)\n",
    "df.info()"
   ]
  },
  {
   "cell_type": "code",
   "execution_count": 131,
   "id": "384b6ed8",
   "metadata": {},
   "outputs": [
    {
     "data": {
      "text/html": [
       "<div>\n",
       "<style scoped>\n",
       "    .dataframe tbody tr th:only-of-type {\n",
       "        vertical-align: middle;\n",
       "    }\n",
       "\n",
       "    .dataframe tbody tr th {\n",
       "        vertical-align: top;\n",
       "    }\n",
       "\n",
       "    .dataframe thead th {\n",
       "        text-align: right;\n",
       "    }\n",
       "</style>\n",
       "<table border=\"1\" class=\"dataframe\">\n",
       "  <thead>\n",
       "    <tr style=\"text-align: right;\">\n",
       "      <th></th>\n",
       "      <th>waferMap</th>\n",
       "      <th>dieSize</th>\n",
       "      <th>lotName</th>\n",
       "      <th>trianTestLabel</th>\n",
       "      <th>failureType</th>\n",
       "      <th>waferMapDim</th>\n",
       "    </tr>\n",
       "  </thead>\n",
       "  <tbody>\n",
       "    <tr>\n",
       "      <th>570900</th>\n",
       "      <td>[[0, 0, 0, 0, 0, 0, 0, 0, 0, 0, 0, 0, 1, 2, 2,...</td>\n",
       "      <td>710.0</td>\n",
       "      <td>lot35751</td>\n",
       "      <td>[]</td>\n",
       "      <td>[]</td>\n",
       "      <td>(32, 29)</td>\n",
       "    </tr>\n",
       "    <tr>\n",
       "      <th>453176</th>\n",
       "      <td>[[0, 0, 0, 0, 0, 0, 0, 0, 0, 0, 0, 0, 0, 0, 2,...</td>\n",
       "      <td>733.0</td>\n",
       "      <td>lot27795</td>\n",
       "      <td>[]</td>\n",
       "      <td>[]</td>\n",
       "      <td>(31, 31)</td>\n",
       "    </tr>\n",
       "    <tr>\n",
       "      <th>454510</th>\n",
       "      <td>[[0, 0, 0, 0, 0, 0, 0, 0, 0, 0, 0, 0, 0, 0, 1,...</td>\n",
       "      <td>733.0</td>\n",
       "      <td>lot27959</td>\n",
       "      <td>[]</td>\n",
       "      <td>[]</td>\n",
       "      <td>(31, 31)</td>\n",
       "    </tr>\n",
       "    <tr>\n",
       "      <th>807077</th>\n",
       "      <td>[[0, 0, 0, 0, 0, 0, 0, 0, 0, 0, 0, 0, 0, 0, 2,...</td>\n",
       "      <td>1060.0</td>\n",
       "      <td>lot47362</td>\n",
       "      <td>[[Test]]</td>\n",
       "      <td>[[none]]</td>\n",
       "      <td>(41, 33)</td>\n",
       "    </tr>\n",
       "    <tr>\n",
       "      <th>163638</th>\n",
       "      <td>[[0, 0, 0, 0, 0, 0, 0, 0, 0, 0, 0, 0, 0, 0, 0,...</td>\n",
       "      <td>14116.0</td>\n",
       "      <td>lot10507</td>\n",
       "      <td>[]</td>\n",
       "      <td>[]</td>\n",
       "      <td>(212, 84)</td>\n",
       "    </tr>\n",
       "  </tbody>\n",
       "</table>\n",
       "</div>"
      ],
      "text/plain": [
       "                                                 waferMap  dieSize   lotName  \\\n",
       "570900  [[0, 0, 0, 0, 0, 0, 0, 0, 0, 0, 0, 0, 1, 2, 2,...    710.0  lot35751   \n",
       "453176  [[0, 0, 0, 0, 0, 0, 0, 0, 0, 0, 0, 0, 0, 0, 2,...    733.0  lot27795   \n",
       "454510  [[0, 0, 0, 0, 0, 0, 0, 0, 0, 0, 0, 0, 0, 0, 1,...    733.0  lot27959   \n",
       "807077  [[0, 0, 0, 0, 0, 0, 0, 0, 0, 0, 0, 0, 0, 0, 2,...   1060.0  lot47362   \n",
       "163638  [[0, 0, 0, 0, 0, 0, 0, 0, 0, 0, 0, 0, 0, 0, 0,...  14116.0  lot10507   \n",
       "\n",
       "       trianTestLabel failureType waferMapDim  \n",
       "570900             []          []    (32, 29)  \n",
       "453176             []          []    (31, 31)  \n",
       "454510             []          []    (31, 31)  \n",
       "807077       [[Test]]    [[none]]    (41, 33)  \n",
       "163638             []          []   (212, 84)  "
      ]
     },
     "execution_count": 131,
     "metadata": {},
     "output_type": "execute_result"
    }
   ],
   "source": [
    "def find_dim(x):\n",
    "    dim0=np.size(x,axis=0)\n",
    "    dim1=np.size(x,axis=1)\n",
    "    return dim0,dim1\n",
    "\n",
    "df['waferMapDim']=df.waferMap.apply(find_dim)\n",
    "\n",
    "df.sample(5)"
   ]
  },
  {
   "cell_type": "code",
   "execution_count": 132,
   "id": "98e90cbb",
   "metadata": {},
   "outputs": [
    {
     "data": {
      "text/html": [
       "<div>\n",
       "<style scoped>\n",
       "    .dataframe tbody tr th:only-of-type {\n",
       "        vertical-align: middle;\n",
       "    }\n",
       "\n",
       "    .dataframe tbody tr th {\n",
       "        vertical-align: top;\n",
       "    }\n",
       "\n",
       "    .dataframe thead th {\n",
       "        text-align: right;\n",
       "    }\n",
       "</style>\n",
       "<table border=\"1\" class=\"dataframe\">\n",
       "  <thead>\n",
       "    <tr style=\"text-align: right;\">\n",
       "      <th></th>\n",
       "      <th>waferMap</th>\n",
       "      <th>dieSize</th>\n",
       "      <th>lotName</th>\n",
       "      <th>trianTestLabel</th>\n",
       "      <th>failureType</th>\n",
       "      <th>waferMapDim</th>\n",
       "      <th>failureNum</th>\n",
       "      <th>trainTestNum</th>\n",
       "    </tr>\n",
       "  </thead>\n",
       "  <tbody>\n",
       "    <tr>\n",
       "      <th>0</th>\n",
       "      <td>[[0, 0, 0, 0, 0, 0, 0, 0, 0, 0, 0, 0, 0, 0, 0,...</td>\n",
       "      <td>1683.0</td>\n",
       "      <td>lot1</td>\n",
       "      <td>[[Training]]</td>\n",
       "      <td>[[none]]</td>\n",
       "      <td>(45, 48)</td>\n",
       "      <td>8.0</td>\n",
       "      <td>0.0</td>\n",
       "    </tr>\n",
       "    <tr>\n",
       "      <th>1</th>\n",
       "      <td>[[0, 0, 0, 0, 0, 0, 0, 0, 0, 0, 0, 0, 0, 0, 0,...</td>\n",
       "      <td>1683.0</td>\n",
       "      <td>lot1</td>\n",
       "      <td>[[Training]]</td>\n",
       "      <td>[[none]]</td>\n",
       "      <td>(45, 48)</td>\n",
       "      <td>8.0</td>\n",
       "      <td>0.0</td>\n",
       "    </tr>\n",
       "    <tr>\n",
       "      <th>2</th>\n",
       "      <td>[[0, 0, 0, 0, 0, 0, 0, 0, 0, 0, 0, 0, 0, 0, 0,...</td>\n",
       "      <td>1683.0</td>\n",
       "      <td>lot1</td>\n",
       "      <td>[[Training]]</td>\n",
       "      <td>[[none]]</td>\n",
       "      <td>(45, 48)</td>\n",
       "      <td>8.0</td>\n",
       "      <td>0.0</td>\n",
       "    </tr>\n",
       "    <tr>\n",
       "      <th>3</th>\n",
       "      <td>[[0, 0, 0, 0, 0, 0, 0, 0, 0, 0, 0, 0, 0, 0, 0,...</td>\n",
       "      <td>1683.0</td>\n",
       "      <td>lot1</td>\n",
       "      <td>[[Training]]</td>\n",
       "      <td>[[none]]</td>\n",
       "      <td>(45, 48)</td>\n",
       "      <td>8.0</td>\n",
       "      <td>0.0</td>\n",
       "    </tr>\n",
       "    <tr>\n",
       "      <th>4</th>\n",
       "      <td>[[0, 0, 0, 0, 0, 0, 0, 0, 0, 0, 0, 0, 0, 0, 0,...</td>\n",
       "      <td>1683.0</td>\n",
       "      <td>lot1</td>\n",
       "      <td>[[Training]]</td>\n",
       "      <td>[[none]]</td>\n",
       "      <td>(45, 48)</td>\n",
       "      <td>8.0</td>\n",
       "      <td>0.0</td>\n",
       "    </tr>\n",
       "  </tbody>\n",
       "</table>\n",
       "</div>"
      ],
      "text/plain": [
       "                                            waferMap  dieSize lotName  \\\n",
       "0  [[0, 0, 0, 0, 0, 0, 0, 0, 0, 0, 0, 0, 0, 0, 0,...   1683.0    lot1   \n",
       "1  [[0, 0, 0, 0, 0, 0, 0, 0, 0, 0, 0, 0, 0, 0, 0,...   1683.0    lot1   \n",
       "2  [[0, 0, 0, 0, 0, 0, 0, 0, 0, 0, 0, 0, 0, 0, 0,...   1683.0    lot1   \n",
       "3  [[0, 0, 0, 0, 0, 0, 0, 0, 0, 0, 0, 0, 0, 0, 0,...   1683.0    lot1   \n",
       "4  [[0, 0, 0, 0, 0, 0, 0, 0, 0, 0, 0, 0, 0, 0, 0,...   1683.0    lot1   \n",
       "\n",
       "  trianTestLabel failureType waferMapDim  failureNum  trainTestNum  \n",
       "0   [[Training]]    [[none]]    (45, 48)         8.0           0.0  \n",
       "1   [[Training]]    [[none]]    (45, 48)         8.0           0.0  \n",
       "2   [[Training]]    [[none]]    (45, 48)         8.0           0.0  \n",
       "3   [[Training]]    [[none]]    (45, 48)         8.0           0.0  \n",
       "4   [[Training]]    [[none]]    (45, 48)         8.0           0.0  "
      ]
     },
     "execution_count": 132,
     "metadata": {},
     "output_type": "execute_result"
    }
   ],
   "source": [
    "import numpy as np\n",
    "\n",
    "def unwrap_nested_array(x):\n",
    "    try:\n",
    "        if isinstance(x, (list, np.ndarray)) and len(x) > 0:\n",
    "            if isinstance(x[0], (list, np.ndarray)) and len(x[0]) > 0:\n",
    "                return x[0][0]\n",
    "    except:\n",
    "        pass\n",
    "    return None\n",
    "\n",
    "# 문자열 추출\n",
    "df['failureStr'] = df['failureType'].apply(unwrap_nested_array)\n",
    "df['trainTestStr'] = df['trianTestLabel'].apply(unwrap_nested_array)\n",
    "\n",
    "# 매핑 정의\n",
    "mapping_type = {\n",
    "    'Center': 0, 'Donut': 1, 'Edge-Loc': 2, 'Edge-Ring': 3,\n",
    "    'Loc': 4, 'Random': 5, 'Scratch': 6, 'Near-full': 7, 'none': 8\n",
    "}\n",
    "mapping_traintest = {'Training': 0, 'Test': 1}\n",
    "\n",
    "# 매핑 적용\n",
    "df['failureNum'] = df['failureStr'].map(mapping_type)\n",
    "df['trainTestNum'] = df['trainTestStr'].map(mapping_traintest)\n",
    "df.drop(['failureStr', 'trainTestStr'], axis=1, inplace=True)\n",
    "df.head()"
   ]
  },
  {
   "cell_type": "code",
   "execution_count": 133,
   "id": "fb231341",
   "metadata": {},
   "outputs": [
    {
     "name": "stdout",
     "output_type": "stream",
     "text": [
      "Preprocessing wafer maps...\n"
     ]
    },
    {
     "name": "stderr",
     "output_type": "stream",
     "text": [
      "Processing: 100%|██████████| 30078/30078 [02:37<00:00, 191.53sample/s] "
     ]
    },
    {
     "name": "stdout",
     "output_type": "stream",
     "text": [
      "x shape : (14366, 26, 26), y shape : (14366, 1)\n"
     ]
    },
    {
     "name": "stderr",
     "output_type": "stream",
     "text": [
      "\n"
     ]
    }
   ],
   "source": [
    "import numpy as np\n",
    "from tqdm import tqdm  # 진행률 바\n",
    "\n",
    "sub_df = df.loc[df['waferMapDim'] == (26, 26)]\n",
    "sub_wafer = sub_df['waferMap'].values\n",
    "\n",
    "sw = np.ones((1, 26, 26))\n",
    "label = []\n",
    "\n",
    "print(\"Preprocessing wafer maps...\")\n",
    "\n",
    "for i in tqdm(range(len(sub_df)), desc=\"Processing\", unit=\"sample\"):\n",
    "    row = sub_df.iloc[i, :]\n",
    "\n",
    "    # skip null label\n",
    "    if len(row['failureType']) == 0:\n",
    "        continue\n",
    "\n",
    "    # wafer image 추가\n",
    "    sw = np.concatenate((sw, row['waferMap'].reshape(1, 26, 26)))\n",
    "\n",
    "    # 라벨 추가\n",
    "    label.append(row['failureType'][0][0])  # numpy.ndarray 구조 대응\n",
    "\n",
    "# 최종 배열 생성\n",
    "x = sw[1:]\n",
    "y = np.array(label).reshape((-1, 1))\n",
    "\n",
    "print('x shape : {}, y shape : {}'.format(x.shape, y.shape))\n"
   ]
  },
  {
   "cell_type": "code",
   "execution_count": 134,
   "id": "7b9a1293",
   "metadata": {},
   "outputs": [
    {
     "name": "stdout",
     "output_type": "stream",
     "text": [
      "Faulty case list : ['Center' 'Donut' 'Edge-Loc' 'Edge-Ring' 'Loc' 'Near-full' 'Random'\n",
      " 'Scratch' 'none']\n"
     ]
    }
   ],
   "source": [
    "x = x.reshape((-1, 26, 26, 1))\n",
    "faulty_case = np.unique(y)\n",
    "print('Faulty case list : {}'.format(faulty_case))"
   ]
  },
  {
   "cell_type": "code",
   "execution_count": 135,
   "id": "3e885958",
   "metadata": {},
   "outputs": [
    {
     "name": "stdout",
     "output_type": "stream",
     "text": [
      "Center : 90\n",
      "Donut : 1\n",
      "Edge-Loc : 296\n",
      "Edge-Ring : 31\n",
      "Loc : 297\n",
      "Near-full : 16\n",
      "Random : 74\n",
      "Scratch : 72\n",
      "none : 13489\n"
     ]
    }
   ],
   "source": [
    "for f in faulty_case :\n",
    "    print('{} : {}'.format(f, len(y[y==f])))"
   ]
  },
  {
   "cell_type": "code",
   "execution_count": 136,
   "id": "8ac5fa39",
   "metadata": {},
   "outputs": [
    {
     "name": "stderr",
     "output_type": "stream",
     "text": [
      "/tmp/ipykernel_196016/843030097.py:6: DeprecationWarning: Conversion of an array with ndim > 0 to a scalar is deprecated, and will error in future. Ensure you extract a single element from your array before performing this operation. (Deprecated NumPy 1.25.)\n",
      "  new_x[w, i, j, int(x[w, i, j])] = 1\n"
     ]
    },
    {
     "data": {
      "text/plain": [
       "(14366, 26, 26, 3)"
      ]
     },
     "execution_count": 136,
     "metadata": {},
     "output_type": "execute_result"
    }
   ],
   "source": [
    "new_x = np.zeros((len(x), 26, 26, 3))\n",
    "\n",
    "for w in range(len(x)):\n",
    "    for i in range(26):\n",
    "        for j in range(26):\n",
    "            new_x[w, i, j, int(x[w, i, j])] = 1\n",
    "\n",
    "new_x.shape"
   ]
  },
  {
   "cell_type": "code",
   "execution_count": 137,
   "id": "80c2e1f9",
   "metadata": {},
   "outputs": [
    {
     "name": "stdout",
     "output_type": "stream",
     "text": [
      "torch.Size([14366, 3, 26, 26])\n",
      "torch.Size([14366])\n",
      "y 원소 예시: ['none']\n",
      "y 정수 인코딩: 8\n",
      "y_tensor shape: torch.Size([14366])\n"
     ]
    }
   ],
   "source": [
    "import torch\n",
    "\n",
    "label_mapping = {\n",
    "    'Center': 0, 'Donut': 1, 'Edge-Loc': 2, 'Edge-Ring': 3,\n",
    "    'Loc': 4, 'Random': 5, 'Scratch': 6, 'Near-full': 7, 'none': 8\n",
    "}\n",
    "\n",
    "y_int = [label_mapping[label[0]] for label in y]  \n",
    "y_tensor = torch.tensor(y_int, dtype=torch.long) \n",
    "x_tensor = torch.tensor(np.transpose(new_x, (0, 3, 1, 2)), dtype=torch.float32) \n",
    "\n",
    "print(x_tensor.shape)\n",
    "print(y_tensor.shape)\n",
    "\n",
    "print(\"y 원소 예시:\", y[0])      \n",
    "print(\"y 정수 인코딩:\", y_int[0])  \n",
    "print(\"y_tensor shape:\", y_tensor.shape)  "
   ]
  },
  {
   "cell_type": "code",
   "execution_count": 138,
   "id": "d59a0360",
   "metadata": {},
   "outputs": [],
   "source": [
    "import torch\n",
    "import torch.nn as nn\n",
    "\n",
    "class WaferCNN(nn.Module):\n",
    "    def __init__(self, num_classes=9):\n",
    "        super(WaferCNN, self).__init__()\n",
    "        self.features = nn.Sequential(\n",
    "            nn.Conv2d(3, 64, kernel_size=3, padding=1),  # 3 input channels → 64\n",
    "            nn.ReLU(),\n",
    "            nn.MaxPool2d(2),  # 26x26 → 13x13\n",
    "\n",
    "            nn.Conv2d(64, 128, kernel_size=3, padding=1),  # 64 input → 128 output\n",
    "            nn.ReLU(),\n",
    "            nn.MaxPool2d(2),  # 13x13 → 6x6\n",
    "        )\n",
    "        self.classifier = nn.Sequential(\n",
    "            nn.Flatten(),\n",
    "            nn.Linear(128 * 6 * 6, 256),\n",
    "            nn.ReLU(),\n",
    "            nn.Dropout(0.5),\n",
    "            nn.Linear(256, num_classes)\n",
    "        )\n",
    "\n",
    "    def forward(self, x):\n",
    "        x = self.features(x)\n",
    "        x = self.classifier(x)\n",
    "        return x\n"
   ]
  },
  {
   "cell_type": "code",
   "execution_count": null,
   "id": "b2aefea5",
   "metadata": {},
   "outputs": [],
   "source": [
    "from torch.utils.data import TensorDataset, DataLoader\n",
    "\n",
    "# 1. Dataset & DataLoader\n",
    "dataset = TensorDataset(x_tensor, y_tensor)\n",
    "dataloader = DataLoader(dataset, batch_size=64, shuffle=True)\n",
    "\n",
    "# 2. 모델, 손실 함수, 옵티마이저\n",
    "device = torch.device(\"cuda\" if torch.cuda.is_available() else \"cpu\")\n",
    "model = WaferCNN(num_classes=9).to(device)\n",
    "criterion = nn.CrossEntropyLoss()\n",
    "optimizer = torch.optim.Adam(model.parameters(), lr=1e-3)\n"
   ]
  },
  {
   "cell_type": "code",
   "execution_count": 142,
   "id": "c82e4370",
   "metadata": {},
   "outputs": [
    {
     "name": "stdout",
     "output_type": "stream",
     "text": [
      "Epoch [1/40] Loss: 0.0069 Acc: 0.997773\n",
      "Epoch [2/40] Loss: 0.0058 Acc: 0.998051\n",
      "Epoch [3/40] Loss: 0.0065 Acc: 0.997842\n",
      "Epoch [4/40] Loss: 0.0057 Acc: 0.997842\n",
      "Epoch [5/40] Loss: 0.0079 Acc: 0.997424\n",
      "Epoch [6/40] Loss: 0.0076 Acc: 0.997146\n",
      "Epoch [7/40] Loss: 0.0095 Acc: 0.996520\n",
      "Epoch [8/40] Loss: 0.0092 Acc: 0.996728\n",
      "Epoch [9/40] Loss: 0.0052 Acc: 0.998260\n",
      "Epoch [10/40] Loss: 0.0050 Acc: 0.998329\n",
      "Epoch [11/40] Loss: 0.0068 Acc: 0.997564\n",
      "Epoch [12/40] Loss: 0.0063 Acc: 0.997633\n",
      "Epoch [13/40] Loss: 0.0068 Acc: 0.997564\n",
      "Epoch [14/40] Loss: 0.0046 Acc: 0.998399\n",
      "Epoch [15/40] Loss: 0.0063 Acc: 0.997703\n",
      "Epoch [16/40] Loss: 0.0049 Acc: 0.998121\n",
      "Epoch [17/40] Loss: 0.0103 Acc: 0.996589\n",
      "Epoch [18/40] Loss: 0.0050 Acc: 0.998329\n",
      "Epoch [19/40] Loss: 0.0051 Acc: 0.997981\n",
      "Epoch [20/40] Loss: 0.0037 Acc: 0.998608\n",
      "Epoch [21/40] Loss: 0.0039 Acc: 0.998329\n",
      "Epoch [22/40] Loss: 0.0097 Acc: 0.996520\n",
      "Epoch [23/40] Loss: 0.0056 Acc: 0.997633\n",
      "Epoch [24/40] Loss: 0.0044 Acc: 0.998260\n",
      "Epoch [25/40] Loss: 0.0060 Acc: 0.997773\n",
      "Epoch [26/40] Loss: 0.0042 Acc: 0.998260\n",
      "Epoch [27/40] Loss: 0.0042 Acc: 0.998329\n",
      "Epoch [28/40] Loss: 0.0039 Acc: 0.997912\n",
      "Epoch [29/40] Loss: 0.0054 Acc: 0.998051\n",
      "Epoch [30/40] Loss: 0.0063 Acc: 0.997912\n",
      "Epoch [31/40] Loss: 0.0056 Acc: 0.997842\n",
      "Epoch [32/40] Loss: 0.0038 Acc: 0.998399\n",
      "Epoch [33/40] Loss: 0.0042 Acc: 0.998260\n",
      "Epoch [34/40] Loss: 0.0042 Acc: 0.998051\n",
      "Epoch [35/40] Loss: 0.0054 Acc: 0.998190\n",
      "Epoch [36/40] Loss: 0.0056 Acc: 0.998329\n",
      "Epoch [37/40] Loss: 0.0041 Acc: 0.998329\n",
      "Epoch [38/40] Loss: 0.0042 Acc: 0.998399\n",
      "Epoch [39/40] Loss: 0.0050 Acc: 0.997912\n",
      "Epoch [40/40] Loss: 0.0046 Acc: 0.998051\n"
     ]
    }
   ],
   "source": [
    "# # 3. 학습 루프\n",
    "num_epochs = 40\n",
    "for epoch in range(num_epochs):\n",
    "    model.train()\n",
    "    running_loss = 0.0\n",
    "    correct = 0\n",
    "    total = 0\n",
    "\n",
    "    for inputs, labels in dataloader:\n",
    "        inputs, labels = inputs.to(device), labels.to(device)\n",
    "\n",
    "        optimizer.zero_grad()\n",
    "        outputs = model(inputs)  \n",
    "        loss = criterion(outputs, labels)\n",
    "        loss.backward()\n",
    "        optimizer.step()\n",
    "\n",
    "        running_loss += loss.item() * inputs.size(0)\n",
    "        _, predicted = torch.max(outputs, 1)\n",
    "        total += labels.size(0)\n",
    "        correct += (predicted == labels).sum().item()\n",
    "\n",
    "    epoch_loss = running_loss / len(dataset)\n",
    "    accuracy = correct / total\n",
    "    print(f\"Epoch [{epoch+1}/{num_epochs}] Loss: {epoch_loss:.4f} Acc: {accuracy:.6f}\")"
   ]
  }
 ],
 "metadata": {
  "kernelspec": {
   "display_name": "ddai",
   "language": "python",
   "name": "ddai"
  },
  "language_info": {
   "codemirror_mode": {
    "name": "ipython",
    "version": 3
   },
   "file_extension": ".py",
   "mimetype": "text/x-python",
   "name": "python",
   "nbconvert_exporter": "python",
   "pygments_lexer": "ipython3",
   "version": "3.11.11"
  }
 },
 "nbformat": 4,
 "nbformat_minor": 5
}
